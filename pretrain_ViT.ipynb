{
 "cells": [
  {
   "cell_type": "code",
   "execution_count": null,
   "id": "04f47d70",
   "metadata": {},
   "outputs": [],
   "source": [
    "from google.colab import drive\n",
    "drive.mount('/content/drive')"
   ]
  },
  {
   "cell_type": "code",
   "execution_count": null,
   "id": "9408b9ac",
   "metadata": {},
   "outputs": [],
   "source": [
    "import os\n",
    "repo_path = \"/content/drive/MyDrive/EmbarkLabs/MammoViT\"\n",
    "os.chdir(repo_path)\n",
    "print(\"Current directory:\", os.getcwd())\n",
    "!ls"
   ]
  },
  {
   "cell_type": "markdown",
   "id": "36b82632",
   "metadata": {},
   "source": [
    "# Load Data\n",
    "This section loads the training and validation datasets using PyTorch's `DataLoader`."
   ]
  },
  {
   "cell_type": "code",
   "execution_count": null,
   "id": "eede1106",
   "metadata": {},
   "outputs": [],
   "source": [
    "from src.train_fine_tune.pretrain_vit import create_dataloaders\n",
    "from pathlib import Path\n",
    "\n",
    "# Define data directory and batch size\n",
    "data_dir = Path('/content/drive/MyDrive/EmbarkLabs/INbreast_Release_1.0/OrganizedByBiRads')\n",
    "batch_size =128\n",
    "\n",
    "# Load data\n",
    "train_loader, val_loader = create_dataloaders(data_dir, batch_size)"
   ]
  },
  {
   "cell_type": "markdown",
   "id": "7a73837c",
   "metadata": {},
   "source": [
    "# Instantiate Model and Start Training\n",
    "This section initializes the Vision Transformer (ViT) model, sets up the optimizer and loss function, and starts the training process."
   ]
  },
  {
   "cell_type": "code",
   "execution_count": null,
   "id": "09ea21c0",
   "metadata": {},
   "outputs": [],
   "source": [
    "from src.train_fine_tune.pretrain_vit import train_vit_model\n",
    "\n",
    "# Define training parameters\n",
    "log_dir = Path('/content/drive/MyDrive/EmbarkLabs/MammoViT/logs')\n",
    "epochs = 10\n",
    "learning_rate = 1e-4\n",
    "save_path = \"logs/preTrainedViT\"\n",
    "\n",
    "# Start training\n",
    "train_vit_model(data_dir, log_dir, save_path, epochs, batch_size, learning_rate)"
   ]
  },
  {
   "cell_type": "markdown",
   "id": "46f13e06",
   "metadata": {},
   "source": [
    "# Pull Metrics and Create Figures\n",
    "This section reads the logged metrics and generates visualizations for loss, accuracy, and confusion matrix."
   ]
  },
  {
   "cell_type": "code",
   "execution_count": null,
   "id": "e8c0147b",
   "metadata": {},
   "outputs": [],
   "source": [
    "from src.eval_and_metrics.figures import plot_loss_curve, plot_accuracy_curve, plot_confusion_matrix\n",
    "\n",
    "# Define paths\n",
    "metrics_path = log_dir / 'metrics.csv'\n",
    "output_path = log_dir / 'figures'\n",
    "output_path.mkdir(parents=True, exist_ok=True)\n",
    "\n",
    "# Generate figures\n",
    "plot_loss_curve(metrics_path, output_path)\n",
    "plot_accuracy_curve(metrics_path, output_path)\n",
    "\n",
    "# Generate confusion matrix\n",
    "cm_path = log_dir / 'confusion_matrix.json'\n",
    "class_names = ['class1', 'class2', 'class3', 'class4']\n",
    "plot_confusion_matrix(cm_path, output_path, class_names)"
   ]
  }
 ],
 "metadata": {
  "language_info": {
   "name": "python"
  }
 },
 "nbformat": 4,
 "nbformat_minor": 5
}
